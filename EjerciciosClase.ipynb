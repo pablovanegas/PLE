{
  "cells": [
    {
      "cell_type": "code",
      "execution_count": null,
      "id": "f744f880",
      "metadata": {
        "id": "f744f880"
      },
      "outputs": [],
      "source": [
        "#  <center> <font color='blue'> ACTIVIDADES CLASE 1 - PLE: Módulo de Python </font> </center>"
      ]
    },
    {
      "cell_type": "markdown",
      "id": "68e4d33c",
      "metadata": {
        "id": "68e4d33c"
      },
      "source": [
        "### <font color=\"black\"> <ins>Actividad 1:<ins> </font>\n",
        "\n",
        "Relice las siguientes operaciones en Python:\n",
        "\n",
        "1. $\\ln\\left(\\frac{(4.01+9.054)^3}{(3.2/1.5)^2}\\right)$\n",
        "2. $e^\\frac{-(10.009-3.6547)^2}{4}$\n",
        "3. $\\sqrt{\\frac{55.2\\times\\log_{10}(91.3)}{e^{-\\sqrt{2.4}}}}$\n",
        "4. $\\sin \\left(\\frac{(2.43-\\arcsin(1/3))}{\\pi\\arccos\\left(\\sqrt{2}/2\\right)}\\right)$"
      ]
    },
    {
      "cell_type": "code",
      "execution_count": null,
      "id": "811c36a2",
      "metadata": {
        "colab": {
          "base_uri": "https://localhost:8080/"
        },
        "id": "811c36a2",
        "outputId": "a43c7e50-74b0-4c15-df64-da586bab41a7"
      },
      "outputs": [
        {
          "data": {
            "text/plain": [
              "6.194209663609459"
            ]
          },
          "execution_count": 3,
          "metadata": {},
          "output_type": "execute_result"
        }
      ],
      "source": [
        "import numpy as np\n",
        "np.log(((4.01+9.054)**3)/((3.2/1.5))**2)"
      ]
    },
    {
      "cell_type": "code",
      "execution_count": null,
      "id": "8ef43f21",
      "metadata": {
        "colab": {
          "base_uri": "https://localhost:8080/"
        },
        "id": "8ef43f21",
        "outputId": "b83f5900-3cd5-49c1-8122-e19cb36e54fd"
      },
      "outputs": [
        {
          "data": {
            "text/plain": [
              "4.1315115901591716e-05"
            ]
          },
          "execution_count": 6,
          "metadata": {},
          "output_type": "execute_result"
        }
      ],
      "source": [
        "np.exp((-(10.009-3.6547)**2)/4)"
      ]
    },
    {
      "cell_type": "code",
      "execution_count": null,
      "id": "e613c77a",
      "metadata": {
        "colab": {
          "base_uri": "https://localhost:8080/"
        },
        "id": "e613c77a",
        "outputId": "efe1a8ba-d477-47c2-c23d-8b06081b87da"
      },
      "outputs": [
        {
          "data": {
            "text/plain": [
              "22.571103103289516"
            ]
          },
          "execution_count": 8,
          "metadata": {},
          "output_type": "execute_result"
        }
      ],
      "source": [
        "np.sqrt((55.2*np.log10(91.3))/np.exp(-np.sqrt(2.4)))"
      ]
    },
    {
      "cell_type": "markdown",
      "id": "9c01775d",
      "metadata": {
        "id": "9c01775d"
      },
      "source": [
        "## <font color=\"black\"> <ins>Actividad 2:<ins> </font>\n",
        "    \n",
        "    1. Construir las siguientes matrices en Python:\n",
        "\n",
        "$$A_1= \\begin{pmatrix} 1 & 1 & 0 \\\\ 1 & 0 & 1 \\\\ 0 & 1 & 0\\end{pmatrix},\n",
        "\\ A_2= \\begin{pmatrix} 1 & -1 & 0 \\\\ 0 & 1 & 0 \\\\ 2 & 0 & 1\\end{pmatrix}\\ \\text{y}\n",
        "\\ A_3= \\begin{pmatrix} 2 & 0 & 1 \\\\ 1 & 1 & -4 \\\\ 3 & 7 & -3\\end{pmatrix}.$$\n",
        "\n",
        "2. Obtenga los productos **matricial** y **elemento por elemento** de las matrices de a dos en dos y el de las tres, es decir, $A_1$ por $A_2$, $A_2$ por $A_1$, $A_1$ por $A_3$, $A_3$ por $A_1$,  etc.\n",
        "\n",
        "3. Obtenga las transpuestas y las inversas de las matrices $A_1$, $A_2$ y $A_3$.\n",
        "\n",
        "4. Seleccione los elementos de la primera fila y la segunda columna de las 3 matrices y sume estos valores. Haga lo mismo con los elementos de la segunda fila y la tercera columna de las inversas de las matrices."
      ]
    },
    {
      "cell_type": "code",
      "execution_count": null,
      "id": "7cb8e4d3",
      "metadata": {
        "id": "7cb8e4d3"
      },
      "outputs": [],
      "source": [
        "import numpy as np"
      ]
    },
    {
      "cell_type": "code",
      "execution_count": null,
      "id": "7a4b1ba1",
      "metadata": {
        "colab": {
          "base_uri": "https://localhost:8080/"
        },
        "id": "7a4b1ba1",
        "outputId": "03bd6e71-8c2b-4e2e-d192-d5c03172ddfb"
      },
      "outputs": [
        {
          "name": "stdout",
          "output_type": "stream",
          "text": [
            "[[1 1 0]\n",
            " [1 0 1]\n",
            " [0 1 0]]\n",
            "<class 'numpy.ndarray'>\n",
            "(3, 3)\n"
          ]
        }
      ],
      "source": [
        "a1 = np.array([[1,1,0],\n",
        "         [1,0,1],\n",
        "          [0,1,0]])\n",
        "print(a1)\n",
        "print(type(a1))\n",
        "print(a1.shape)"
      ]
    },
    {
      "cell_type": "code",
      "execution_count": null,
      "id": "b47583e7",
      "metadata": {
        "colab": {
          "base_uri": "https://localhost:8080/"
        },
        "id": "b47583e7",
        "outputId": "5fff3fc5-4967-4427-8dfb-3c8347f91504"
      },
      "outputs": [
        {
          "name": "stdout",
          "output_type": "stream",
          "text": [
            "[[ 1 -1  0]\n",
            " [ 0  1  0]\n",
            " [ 2  0  1]]\n",
            "<class 'numpy.ndarray'>\n",
            "(3, 3)\n"
          ]
        }
      ],
      "source": [
        "a2 = np.array([[1,-1,0],\n",
        "         [0,1,0],\n",
        "          [2,0,1]])\n",
        "print(a2)\n",
        "print(type(a2))\n",
        "print(a2.shape)"
      ]
    },
    {
      "cell_type": "code",
      "execution_count": null,
      "id": "30dde47c",
      "metadata": {
        "colab": {
          "base_uri": "https://localhost:8080/"
        },
        "id": "30dde47c",
        "outputId": "aab710e6-5ae8-438d-9543-962dbd4ae079"
      },
      "outputs": [
        {
          "name": "stdout",
          "output_type": "stream",
          "text": [
            "[[ 2  0  1]\n",
            " [ 1  1 -4]\n",
            " [ 3  7 -3]]\n",
            "<class 'numpy.ndarray'>\n",
            "(3, 3)\n"
          ]
        }
      ],
      "source": [
        "a3 = np.array([[2,0,1],\n",
        "         [1,1,-4],\n",
        "          [3,7,-3]])\n",
        "print(a3)\n",
        "print(type(a3))\n",
        "print(a3.shape)"
      ]
    },
    {
      "cell_type": "code",
      "execution_count": null,
      "id": "13bfcf82",
      "metadata": {
        "colab": {
          "base_uri": "https://localhost:8080/"
        },
        "id": "13bfcf82",
        "outputId": "5a24746f-2336-4da9-b820-32c36ee283a0"
      },
      "outputs": [
        {
          "name": "stdout",
          "output_type": "stream",
          "text": [
            "[[ 1  0  0]\n",
            " [ 3 -1  1]\n",
            " [ 0  1  0]]\n",
            "\n",
            "[[ 0  1 -1]\n",
            " [ 1  0  1]\n",
            " [ 2  3  0]]\n",
            "\n",
            "[[ 3  1 -3]\n",
            " [ 5  7 -2]\n",
            " [ 1  1 -4]]\n",
            "\n",
            "[[ 2  3  0]\n",
            " [ 2 -3  1]\n",
            " [10  0  7]]\n",
            "\n",
            "[[ 1 -1  5]\n",
            " [ 1  1 -4]\n",
            " [ 7  7 -1]]\n",
            "\n",
            "[[ 4 -2  1]\n",
            " [-7  0 -4]\n",
            " [-3  4 -3]]\n",
            "\n",
            "[[ 2  0  1]\n",
            " [ 8  6  4]\n",
            " [ 1  1 -4]]\n"
          ]
        }
      ],
      "source": [
        "print(a1@a2,a2@a1,a1@a3,a3@a1,a2@a3, a3@a2, a1@a2@a3  ,sep=\"\\n\\n\")"
      ]
    },
    {
      "cell_type": "code",
      "execution_count": null,
      "id": "2b4d85b4",
      "metadata": {
        "colab": {
          "base_uri": "https://localhost:8080/"
        },
        "id": "2b4d85b4",
        "outputId": "f11629bf-9225-4873-aa14-39b6ce2ccc57"
      },
      "outputs": [
        {
          "name": "stdout",
          "output_type": "stream",
          "text": [
            "[[1 1 0]\n",
            " [1 0 1]\n",
            " [0 1 0]]\n",
            "\n",
            "[[ 1  0  2]\n",
            " [-1  1  0]\n",
            " [ 0  0  1]]\n",
            "\n",
            "[[ 2  1  3]\n",
            " [ 0  1  7]\n",
            " [ 1 -4 -3]]\n"
          ]
        }
      ],
      "source": [
        "print(a1.T,a2.T,a3.T, sep= \"\\n\\n\")"
      ]
    },
    {
      "cell_type": "code",
      "execution_count": null,
      "id": "15635a2f",
      "metadata": {
        "colab": {
          "base_uri": "https://localhost:8080/"
        },
        "id": "15635a2f",
        "outputId": "74739622-0d78-4ec0-e2e9-f7981cff3537"
      },
      "outputs": [
        {
          "name": "stdout",
          "output_type": "stream",
          "text": [
            "[[ 1.  0. -1.]\n",
            " [-0. -0.  1.]\n",
            " [-1.  1.  1.]]\n",
            "\n",
            "[[ 1.  1.  0.]\n",
            " [ 0.  1.  0.]\n",
            " [-2. -2.  1.]]\n",
            "\n",
            "[[ 0.46296296  0.12962963 -0.01851852]\n",
            " [-0.16666667 -0.16666667  0.16666667]\n",
            " [ 0.07407407 -0.25925926  0.03703704]]\n"
          ]
        }
      ],
      "source": [
        "print(np.linalg.inv(a1),np.linalg.inv(a2),np.linalg.inv(a3),sep = \"\\n\\n\")"
      ]
    },
    {
      "cell_type": "code",
      "execution_count": null,
      "id": "5a1a8581",
      "metadata": {
        "colab": {
          "base_uri": "https://localhost:8080/"
        },
        "id": "5a1a8581",
        "outputId": "ca264f40-cbac-45a7-be91-8a8ecbcdd603"
      },
      "outputs": [
        {
          "name": "stdout",
          "output_type": "stream",
          "text": [
            "3\n",
            "1\n",
            "11\n"
          ]
        }
      ],
      "source": [
        "#Suma valores primera fila y segunda columna, solo se coloca una vez el valor de  ai[0,1], i = 1,2,3 para que no se repita y se suma dos veces\n",
        "print((a1[0,0] + a1[0,1] + a1[0,2]) + a1[1,1]+ a1[2,1])\n",
        "print((a2[0,0] + a2[0,1] + a2[0,2]) + a2[1,1]+ a2[2,1])\n",
        "print((a3[0,0] + a3[0,1] + a3[0,2]) + a3[1,1]+ a3[2,1])"
      ]
    },
    {
      "cell_type": "code",
      "execution_count": null,
      "id": "6eabd418",
      "metadata": {
        "colab": {
          "base_uri": "https://localhost:8080/"
        },
        "id": "6eabd418",
        "outputId": "bba6930c-d2f8-4bcd-c25f-f5ec306a333f"
      },
      "outputs": [
        {
          "name": "stdout",
          "output_type": "stream",
          "text": [
            "15\n"
          ]
        }
      ],
      "source": [
        "#suma de la suma de todos los valores de la primera fila y todos los valores de la segunda columna (Sin diferenciar por matriz)\n",
        "valor = a1[0,0] + a1[0,1] + a1[0,2] + a1[1,1]+ a1[2,1] + a2[0,0] + a2[0,1] + a2[0,2] + a2[1,1]+ a2[2,1] + a3[0,0] + a3[0,1] + a3[0,2] + a3[1,1]+ a3[2,1]\n",
        "print(valor)"
      ]
    },
    {
      "cell_type": "code",
      "execution_count": null,
      "id": "a9beffb3",
      "metadata": {
        "colab": {
          "base_uri": "https://localhost:8080/"
        },
        "id": "a9beffb3",
        "outputId": "ff419572-05f1-4256-b26d-935f5d1eb072"
      },
      "outputs": [
        {
          "data": {
            "text/plain": [
              "0.32847225870017005"
            ]
          },
          "execution_count": 2,
          "metadata": {},
          "output_type": "execute_result"
        }
      ],
      "source": [
        "np.sin((2.43*np.arcsin(1/3))/(np.pi* np.arccos(np.sqrt(2)/2)))"
      ]
    },
    {
      "cell_type": "markdown",
      "id": "3d9a4a66",
      "metadata": {
        "id": "3d9a4a66"
      },
      "source": [
        "## <font color=\"black\"> <ins>Actividad 2:<ins> </font>\n",
        "    \n",
        "    1. Construir las siguientes matrices en Python:\n",
        "\n",
        "$$A_1= \\begin{pmatrix} 1 & 1 & 0 \\\\ 1 & 0 & 1 \\\\ 0 & 1 & 0\\end{pmatrix},\n",
        "\\ A_2= \\begin{pmatrix} 1 & -1 & 0 \\\\ 0 & 1 & 0 \\\\ 2 & 0 & 1\\end{pmatrix}\\ \\text{y}\n",
        "\\ A_3= \\begin{pmatrix} 2 & 0 & 1 \\\\ 1 & 1 & -4 \\\\ 3 & 7 & -3\\end{pmatrix}.$$\n",
        "\n",
        "2. Obtenga los productos **matricial** y **elemento por elemento** de las matrices de a dos en dos y el de las tres, es decir, $A_1$ por $A_2$, $A_2$ por $A_1$, $A_1$ por $A_3$, $A_3$ por $A_1$,  etc.\n",
        "\n",
        "3. Obtenga las transpuestas y las inversas de las matrices $A_1$, $A_2$ y $A_3$.\n",
        "\n",
        "4. Seleccione los elementos de la primera fila y la segunda columna de las 3 matrices y sume estos valores. Haga lo mismo con los elementos de la segunda fila y la tercera columna de las inversas de las matrices."
      ]
    },
    {
      "cell_type": "code",
      "execution_count": null,
      "id": "c76935d8",
      "metadata": {
        "id": "c76935d8"
      },
      "outputs": [],
      "source": [
        "import numpy as np"
      ]
    },
    {
      "cell_type": "code",
      "execution_count": null,
      "id": "571198c9",
      "metadata": {
        "colab": {
          "base_uri": "https://localhost:8080/"
        },
        "id": "571198c9",
        "outputId": "03bd6e71-8c2b-4e2e-d192-d5c03172ddfb"
      },
      "outputs": [
        {
          "name": "stdout",
          "output_type": "stream",
          "text": [
            "[[1 1 0]\n",
            " [1 0 1]\n",
            " [0 1 0]]\n",
            "<class 'numpy.ndarray'>\n",
            "(3, 3)\n"
          ]
        }
      ],
      "source": [
        "a1 = np.array([[1,1,0],\n",
        "         [1,0,1],\n",
        "          [0,1,0]])\n",
        "print(a1)\n",
        "print(type(a1))\n",
        "print(a1.shape)"
      ]
    },
    {
      "cell_type": "code",
      "execution_count": null,
      "id": "b049bb7c",
      "metadata": {
        "colab": {
          "base_uri": "https://localhost:8080/"
        },
        "id": "b049bb7c",
        "outputId": "5fff3fc5-4967-4427-8dfb-3c8347f91504"
      },
      "outputs": [
        {
          "name": "stdout",
          "output_type": "stream",
          "text": [
            "[[ 1 -1  0]\n",
            " [ 0  1  0]\n",
            " [ 2  0  1]]\n",
            "<class 'numpy.ndarray'>\n",
            "(3, 3)\n"
          ]
        }
      ],
      "source": [
        "a2 = np.array([[1,-1,0],\n",
        "         [0,1,0],\n",
        "          [2,0,1]])\n",
        "print(a2)\n",
        "print(type(a2))\n",
        "print(a2.shape)"
      ]
    },
    {
      "cell_type": "code",
      "execution_count": null,
      "id": "29679501",
      "metadata": {
        "colab": {
          "base_uri": "https://localhost:8080/"
        },
        "id": "29679501",
        "outputId": "aab710e6-5ae8-438d-9543-962dbd4ae079"
      },
      "outputs": [
        {
          "name": "stdout",
          "output_type": "stream",
          "text": [
            "[[ 2  0  1]\n",
            " [ 1  1 -4]\n",
            " [ 3  7 -3]]\n",
            "<class 'numpy.ndarray'>\n",
            "(3, 3)\n"
          ]
        }
      ],
      "source": [
        "a3 = np.array([[2,0,1],\n",
        "         [1,1,-4],\n",
        "          [3,7,-3]])\n",
        "print(a3)\n",
        "print(type(a3))\n",
        "print(a3.shape)"
      ]
    },
    {
      "cell_type": "code",
      "execution_count": null,
      "id": "21a4f20c",
      "metadata": {
        "colab": {
          "base_uri": "https://localhost:8080/"
        },
        "id": "21a4f20c",
        "outputId": "5a24746f-2336-4da9-b820-32c36ee283a0"
      },
      "outputs": [
        {
          "name": "stdout",
          "output_type": "stream",
          "text": [
            "[[ 1  0  0]\n",
            " [ 3 -1  1]\n",
            " [ 0  1  0]]\n",
            "\n",
            "[[ 0  1 -1]\n",
            " [ 1  0  1]\n",
            " [ 2  3  0]]\n",
            "\n",
            "[[ 3  1 -3]\n",
            " [ 5  7 -2]\n",
            " [ 1  1 -4]]\n",
            "\n",
            "[[ 2  3  0]\n",
            " [ 2 -3  1]\n",
            " [10  0  7]]\n",
            "\n",
            "[[ 1 -1  5]\n",
            " [ 1  1 -4]\n",
            " [ 7  7 -1]]\n",
            "\n",
            "[[ 4 -2  1]\n",
            " [-7  0 -4]\n",
            " [-3  4 -3]]\n",
            "\n",
            "[[ 2  0  1]\n",
            " [ 8  6  4]\n",
            " [ 1  1 -4]]\n"
          ]
        }
      ],
      "source": [
        "print(a1@a2,a2@a1,a1@a3,a3@a1,a2@a3, a3@a2, a1@a2@a3  ,sep=\"\\n\\n\")"
      ]
    },
    {
      "cell_type": "code",
      "execution_count": null,
      "id": "49761827",
      "metadata": {
        "colab": {
          "base_uri": "https://localhost:8080/"
        },
        "id": "49761827",
        "outputId": "f11629bf-9225-4873-aa14-39b6ce2ccc57"
      },
      "outputs": [
        {
          "name": "stdout",
          "output_type": "stream",
          "text": [
            "[[1 1 0]\n",
            " [1 0 1]\n",
            " [0 1 0]]\n",
            "\n",
            "[[ 1  0  2]\n",
            " [-1  1  0]\n",
            " [ 0  0  1]]\n",
            "\n",
            "[[ 2  1  3]\n",
            " [ 0  1  7]\n",
            " [ 1 -4 -3]]\n"
          ]
        }
      ],
      "source": [
        "print(a1.T,a2.T,a3.T, sep= \"\\n\\n\")"
      ]
    },
    {
      "cell_type": "code",
      "execution_count": null,
      "id": "0acc3644",
      "metadata": {
        "colab": {
          "base_uri": "https://localhost:8080/"
        },
        "id": "0acc3644",
        "outputId": "74739622-0d78-4ec0-e2e9-f7981cff3537"
      },
      "outputs": [
        {
          "name": "stdout",
          "output_type": "stream",
          "text": [
            "[[ 1.  0. -1.]\n",
            " [-0. -0.  1.]\n",
            " [-1.  1.  1.]]\n",
            "\n",
            "[[ 1.  1.  0.]\n",
            " [ 0.  1.  0.]\n",
            " [-2. -2.  1.]]\n",
            "\n",
            "[[ 0.46296296  0.12962963 -0.01851852]\n",
            " [-0.16666667 -0.16666667  0.16666667]\n",
            " [ 0.07407407 -0.25925926  0.03703704]]\n"
          ]
        }
      ],
      "source": [
        "print(np.linalg.inv(a1),np.linalg.inv(a2),np.linalg.inv(a3),sep = \"\\n\\n\")"
      ]
    },
    {
      "cell_type": "code",
      "execution_count": null,
      "id": "e62f4947",
      "metadata": {
        "colab": {
          "base_uri": "https://localhost:8080/"
        },
        "id": "e62f4947",
        "outputId": "ca264f40-cbac-45a7-be91-8a8ecbcdd603"
      },
      "outputs": [
        {
          "name": "stdout",
          "output_type": "stream",
          "text": [
            "3\n",
            "1\n",
            "11\n"
          ]
        }
      ],
      "source": [
        "#Suma valores primera fila y segunda columna, solo se coloca una vez el valor de  ai[0,1], i = 1,2,3 para que no se repita y se suma dos veces\n",
        "print((a1[0,0] + a1[0,1] + a1[0,2]) + a1[1,1]+ a1[2,1])\n",
        "print((a2[0,0] + a2[0,1] + a2[0,2]) + a2[1,1]+ a2[2,1])\n",
        "print((a3[0,0] + a3[0,1] + a3[0,2]) + a3[1,1]+ a3[2,1])"
      ]
    },
    {
      "cell_type": "code",
      "execution_count": null,
      "id": "4d5fb20d",
      "metadata": {
        "colab": {
          "base_uri": "https://localhost:8080/"
        },
        "id": "4d5fb20d",
        "outputId": "bba6930c-d2f8-4bcd-c25f-f5ec306a333f"
      },
      "outputs": [
        {
          "name": "stdout",
          "output_type": "stream",
          "text": [
            "15\n"
          ]
        }
      ],
      "source": [
        "#suma de la suma de todos los valores de la primera fila y todos los valores de la segunda columna (Sin diferenciar por matriz)\n",
        "valor = a1[0,0] + a1[0,1] + a1[0,2] + a1[1,1]+ a1[2,1] + a2[0,0] + a2[0,1] + a2[0,2] + a2[1,1]+ a2[2,1] + a3[0,0] + a3[0,1] + a3[0,2] + a3[1,1]+ a3[2,1]\n",
        "print(valor)"
      ]
    },
    {
      "cell_type": "markdown",
      "id": "1a3ed11a",
      "metadata": {
        "id": "1a3ed11a"
      },
      "source": [
        "#  <center> <font color='blue'> ACTIVIDADES CLASE 2 - PLE: Módulo de Python </font> </center>"
      ]
    },
    {
      "cell_type": "markdown",
      "id": "d33ded81",
      "metadata": {
        "id": "d33ded81"
      },
      "source": [
        "## <font color=\"black\"> <ins>Actividad 1:<ins> </font>\n",
        "Usando condicionales, identifique si el valor que se ingresa en un variable es un número entero, un valor punto flotante, un caracter, un número complejo o no puede identificarlo.    "
      ]
    },
    {
      "cell_type": "code",
      "execution_count": null,
      "id": "42a1e8a9",
      "metadata": {
        "colab": {
          "base_uri": "https://localhost:8080/"
        },
        "id": "42a1e8a9",
        "outputId": "13b13eac-164f-4263-f2df-6a19a92456dd"
      },
      "outputs": [
        {
          "name": "stdout",
          "output_type": "stream",
          "text": [
            "12\n",
            "Caracter\n"
          ]
        }
      ],
      "source": [
        "x = input()\n",
        "if type(x) == int:\n",
        "    print('Numero entero')\n",
        "elif type(x) == float:\n",
        "    print('Numero flotante')\n",
        "elif type(x) == str:\n",
        "    print('Caracter')\n",
        "elif type(x) == complex:\n",
        "    print('Numero complejo')\n",
        "else:\n",
        "    print('No se pudo identificar')"
      ]
    },
    {
      "cell_type": "code",
      "execution_count": null,
      "id": "57ba1f61",
      "metadata": {
        "colab": {
          "base_uri": "https://localhost:8080/"
        },
        "id": "57ba1f61",
        "outputId": "656b0e19-916a-4f26-87e3-0646ff721fcb"
      },
      "outputs": [
        {
          "name": "stdout",
          "output_type": "stream",
          "text": [
            "Caracter\n"
          ]
        }
      ],
      "source": [
        "x = \"xd\"\n",
        "if type(x) == int:\n",
        "    print('Numero entero')\n",
        "elif type(x) == float:\n",
        "    print('Numero flotante')\n",
        "elif type(x) == str:\n",
        "    print('Caracter')\n",
        "elif type(x) == complex:\n",
        "    print('Numero complejo')\n",
        "else:\n",
        "    print('No se pudo identificar')"
      ]
    },
    {
      "cell_type": "markdown",
      "id": "e6ee8826",
      "metadata": {
        "id": "e6ee8826"
      },
      "source": [
        "## <font color=\"black\"> <ins>Actividad 2:<ins> </font>\n",
        "\n",
        "1. Obtener el resultado de multiplicar los números del 1 al $n$.\n",
        "2. Crear dos vectores $V_1$ y $V_2$ de tamaño $n$ de números aleatorios entre 1 y 10. Genere un vector $V_3$, tal que $V_3[i]=0$ si  $V_1[i]<V_2[i]$ ó $V_3[i]=1$  en caso contrario. Concatene los tres vectores en una matriz de dimensiones $(n \\times 3)$.\n",
        "3. Considere separar las palabras de una frase en un vector, es decir, la frase \"Hola cómo están\" separarla en un vector que contenga de la forma $f=[\"Hola\", \"cómo\", \"están\"]$."
      ]
    },
    {
      "cell_type": "code",
      "execution_count": null,
      "id": "b0b0ec3f",
      "metadata": {
        "colab": {
          "base_uri": "https://localhost:8080/"
        },
        "id": "b0b0ec3f",
        "outputId": "346b966a-9e89-4037-8bdb-1485915799b6"
      },
      "outputs": [
        {
          "name": "stdout",
          "output_type": "stream",
          "text": [
            "10\n",
            "3628800\n"
          ]
        }
      ],
      "source": [
        "n = int(input())\n",
        "resu = 1\n",
        "for i in range(1,n+1):\n",
        "  resu *=  i\n",
        "print(resu)"
      ]
    },
    {
      "cell_type": "code",
      "execution_count": null,
      "id": "c8c9fafa",
      "metadata": {
        "colab": {
          "base_uri": "https://localhost:8080/"
        },
        "id": "c8c9fafa",
        "outputId": "6c684880-5f6b-4027-bedc-508b6c8946bc"
      },
      "outputs": [
        {
          "name": "stdout",
          "output_type": "stream",
          "text": [
            "3\n",
            "[4.77656663 1.41978718 9.55979109]\n",
            "[4.15872565 3.54824325 1.39464246]\n",
            "[1, 0, 1]\n"
          ]
        }
      ],
      "source": [
        "import numpy as np\n",
        "n = int(input())\n",
        "numeros = list((np.random.rand(n)*10))\n",
        "vec1 = np.array(numeros)\n",
        "print(vec1)\n",
        "numeros2 = list((np.random.rand(n)*10))\n",
        "vec2 = np.array(numeros2)\n",
        "print(vec2)\n",
        "vec3 = []\n",
        "for i in range(len(numeros)):\n",
        "  if numeros[i] > numeros2[i]:\n",
        "    vec3.append(1)\n",
        "  else:\n",
        "    vec3.append(0)\n",
        "\n",
        "print(vec3)"
      ]
    },
    {
      "cell_type": "code",
      "execution_count": null,
      "id": "7ca1b54b",
      "metadata": {
        "colab": {
          "base_uri": "https://localhost:8080/"
        },
        "id": "7ca1b54b",
        "outputId": "cbd80f1e-7e63-4bfc-b8a3-86ae3a5c6b8a"
      },
      "outputs": [
        {
          "name": "stdout",
          "output_type": "stream",
          "text": [
            "Inserte frase: hola como estas\n",
            "['hola', 'como', 'estas']\n"
          ]
        }
      ],
      "source": [
        "frase = input(\"Inserte frase: \")\n",
        "vec = frase.split(\" \")\n",
        "print(vec)"
      ]
    },
    {
      "cell_type": "markdown",
      "id": "34b42876",
      "metadata": {
        "id": "34b42876"
      },
      "source": [
        "## <font color=\"black\"> <ins>Actividad 3:<ins> </font>\n",
        "1. Genere una matriz $A$ de ceros de dimensiones $(m\\times n)$.\n",
        "\n",
        "2. Utilizando un __while__ reemplace las columnas de la matriz $A$ por vectores de números aleatorios entre -1 y 3.\n",
        "\n",
        "3. Utilizando dos __while__ reemplace los elementos negativos de la matriz $A$ por $-1$ y los demás por $5$. Realice este mismo ejercicio utilizando dos __for__."
      ]
    },
    {
      "cell_type": "code",
      "execution_count": null,
      "id": "c0a86ff8",
      "metadata": {
        "colab": {
          "base_uri": "https://localhost:8080/"
        },
        "id": "c0a86ff8",
        "outputId": "f8dced69-23a7-4d3f-978e-7337975fc2c6"
      },
      "outputs": [
        {
          "name": "stdout",
          "output_type": "stream",
          "text": [
            "3\n",
            "3\n",
            "[[ 2.  1.  3.]\n",
            " [-1. -1.  3.]\n",
            " [ 3.  2.  1.]]\n"
          ]
        }
      ],
      "source": [
        "import numpy as np\n",
        "import random\n",
        "m = int(input())\n",
        "n = int(input())\n",
        "cero = np.zeros((m,n))\n",
        "a = 0\n",
        "while a != m:\n",
        "  b = 0\n",
        "  while b != n:\n",
        "    cero[a][b] = random.randint(-1,3)\n",
        "    b += 1\n",
        "  a += 1\n"
      ]
    },
    {
      "cell_type": "code",
      "execution_count": null,
      "id": "25a98c26",
      "metadata": {
        "id": "25a98c26"
      },
      "outputs": [],
      "source": [
        " ##<font color = \"black\"> <ins> CLASE 3: <ins> </font>"
      ]
    },
    {
      "cell_type": "markdown",
      "id": "f2846493",
      "metadata": {
        "id": "f2846493"
      },
      "source": [
        "## <font color=\"black\"> <ins>Actividad 1 :<ins> </font>\n",
        "\n",
        "Dados dos valores $a$ y $b$ menores a un $n$, crear una función que muestre dos listas de múltiplos de $a$ y de $b$, respectivamente."
      ]
    },
    {
      "cell_type": "code",
      "execution_count": null,
      "id": "9e27573a",
      "metadata": {
        "colab": {
          "base_uri": "https://localhost:8080/",
          "height": 269
        },
        "id": "9e27573a",
        "outputId": "354194c0-0e17-40ab-b4cd-e020e9965ed2"
      },
      "outputs": [
        {
          "output_type": "stream",
          "name": "stdout",
          "text": [
            "1\n",
            "2\n",
            "5\n",
            "range(1, 5)\n"
          ]
        },
        {
          "output_type": "error",
          "ename": "AttributeError",
          "evalue": "ignored",
          "traceback": [
            "\u001b[0;31m---------------------------------------------------------------------------\u001b[0m",
            "\u001b[0;31mAttributeError\u001b[0m                            Traceback (most recent call last)",
            "\u001b[0;32m<ipython-input-19-b78e0b9e68ab>\u001b[0m in \u001b[0;36m<module>\u001b[0;34m()\u001b[0m\n\u001b[1;32m     21\u001b[0m \u001b[0mrango\u001b[0m \u001b[0;34m=\u001b[0m \u001b[0;34m(\u001b[0m\u001b[0mrange\u001b[0m\u001b[0;34m(\u001b[0m\u001b[0;36m1\u001b[0m\u001b[0;34m,\u001b[0m\u001b[0mn\u001b[0m\u001b[0;34m)\u001b[0m\u001b[0;34m)\u001b[0m\u001b[0;34m\u001b[0m\u001b[0;34m\u001b[0m\u001b[0m\n\u001b[1;32m     22\u001b[0m \u001b[0mprint\u001b[0m\u001b[0;34m(\u001b[0m\u001b[0mrango\u001b[0m\u001b[0;34m)\u001b[0m\u001b[0;34m\u001b[0m\u001b[0;34m\u001b[0m\u001b[0m\n\u001b[0;32m---> 23\u001b[0;31m \u001b[0mxd\u001b[0m\u001b[0;34m.\u001b[0m\u001b[0mpop\u001b[0m\u001b[0;34m.\u001b[0m\u001b[0mindex\u001b[0m \u001b[0;34m=\u001b[0m \u001b[0;34m[\u001b[0m\u001b[0mrango\u001b[0m\u001b[0;34m]\u001b[0m\u001b[0;34m\u001b[0m\u001b[0;34m\u001b[0m\u001b[0m\n\u001b[0m",
            "\u001b[0;31mAttributeError\u001b[0m: 'method' object has no attribute 'index'"
          ]
        }
      ],
      "source": [
        "## Solución:\n",
        "\n",
        "import pandas as pd\n",
        "\n",
        "a = int(input())\n",
        "b = int(input())\n",
        "n = int(input())\n",
        "def multi(a,b,n):\n",
        "  titulo = [f\"Multiplos de {a}\",f\"Multiplos de {b}\"]\n",
        "  lista1 = []\n",
        "  lista2 = []\n",
        "  for i in range(1,n+1):\n",
        "    lista1.append(i*a)\n",
        "    lista2.append(i*b)\n",
        "    df = pd.DataFrame([lista1,lista2])\n",
        "    df = pd.DataFrame.transpose(df)\n",
        "    df = df.rename(columns = { 0: f\"multiplos de {a}\", 1: f\"multiplos de {b}\"})\n",
        "\n",
        "  return(df)\n",
        "xd = (multi(a,b,n))\n",
        "rango = (range(1,n))\n",
        "print(rango)\n",
        "xd.pop.index = [rango]\n"
      ]
    },
    {
      "cell_type": "markdown",
      "id": "47f3f811",
      "metadata": {
        "id": "47f3f811"
      },
      "source": [
        "#  <center> <font color='blue'> ACTIVIDAD CLASE 4 - PLE: Módulo de Python </font> </center>"
      ]
    },
    {
      "cell_type": "markdown",
      "id": "ae782b40",
      "metadata": {
        "id": "ae782b40"
      },
      "source": [
        "1. Leer las bases de datos: weatherAUS.csv, heart.txt, master.csv y BlackFriday.txt.\n",
        "2. Analizar los tamaños de las bases de datos e identifique los nombres de las variables.\n",
        "3. Realice una contextualización de la base de datos:\n",
        "    - Suicide Rates Overview 1985 to 2016 kaggle.\n",
        "    - Rain in Australia kaggle.\n",
        "    - Black friday kaggle.\n",
        "    - Heart Disease UCI kaggle.\n",
        "4. Haga un análisis para identificar, en cada caso, cuántos valores NA tiene cada variable.\n",
        "5. Realice un análisis descriptivo básico para estas bases de datos. Separe estos dos\n",
        "análisis para las variables cualitativas y cuantitativas.\n",
        "6. Identifique posibles problemas en cada una de las bases de datos y plantee soluciones.\n"
      ]
    },
    {
      "cell_type": "code",
      "execution_count": null,
      "id": "d3027df7",
      "metadata": {
        "id": "d3027df7",
        "outputId": "320dd943-d4db-4711-ba2c-8b46f1330f00"
      },
      "outputs": [
        {
          "name": "stdout",
          "output_type": "stream",
          "text": [
            "(142193, 24)\n",
            "(303, 14)\n",
            "(27820, 12)\n",
            "(537577, 12)\n",
            "['Date', 'Location', 'MinTemp', 'MaxTemp', 'Rainfall', 'Evaporation', 'Sunshine', 'WindGustDir', 'WindGustSpeed', 'WindDir9am', 'WindDir3pm', 'WindSpeed9am', 'WindSpeed3pm', 'Humidity9am', 'Humidity3pm', 'Pressure9am', 'Pressure3pm', 'Cloud9am', 'Cloud3pm', 'Temp9am', 'Temp3pm', 'RainToday', 'RISK_MM', 'RainTomorrow']\n",
            "['age', 'sex', 'cp', 'trestbps', 'chol', 'fbs', 'restecg', 'thalach', 'exang', 'oldpeak', 'slope', 'ca', 'thal', 'target']\n",
            "['country', 'year', 'sex', 'age', 'suicides_no', 'population', 'suicides/100k pop', 'country-year', 'HDI for year', ' gdp_for_year ($) ', 'gdp_per_capita ($)', 'generation']\n",
            "['User_ID', 'Product_ID', 'Gender', 'Age', 'Occupation', 'City_Category', 'Stay_In_Current_City_Years', 'Marital_Status', 'Product_Category_1', 'Product_Category_2', 'Product_Category_3', 'Purchase']\n",
            "Date                 0\n",
            "Location             0\n",
            "MinTemp            637\n",
            "MaxTemp            322\n",
            "Rainfall          1406\n",
            "Evaporation      60843\n",
            "Sunshine         67816\n",
            "WindGustDir       9330\n",
            "WindGustSpeed     9270\n",
            "WindDir9am       10013\n",
            "WindDir3pm        3778\n",
            "WindSpeed9am      1348\n",
            "WindSpeed3pm      2630\n",
            "Humidity9am       1774\n",
            "Humidity3pm       3610\n",
            "Pressure9am      14014\n",
            "Pressure3pm      13981\n",
            "Cloud9am         53657\n",
            "Cloud3pm         57094\n",
            "Temp9am            904\n",
            "Temp3pm           2726\n",
            "RainToday         1406\n",
            "RISK_MM              0\n",
            "RainTomorrow         0\n",
            "dtype: int64\n",
            "age         0\n",
            "sex         0\n",
            "cp          0\n",
            "trestbps    0\n",
            "chol        0\n",
            "fbs         0\n",
            "restecg     0\n",
            "thalach     0\n",
            "exang       0\n",
            "oldpeak     0\n",
            "slope       0\n",
            "ca          0\n",
            "thal        0\n",
            "target      0\n",
            "dtype: int64\n",
            "country                   0\n",
            "year                      0\n",
            "sex                       0\n",
            "age                       0\n",
            "suicides_no               0\n",
            "population                0\n",
            "suicides/100k pop         0\n",
            "country-year              0\n",
            "HDI for year          19456\n",
            " gdp_for_year ($)         0\n",
            "gdp_per_capita ($)        0\n",
            "generation                0\n",
            "dtype: int64\n",
            "User_ID                            0\n",
            "Product_ID                         0\n",
            "Gender                             0\n",
            "Age                                0\n",
            "Occupation                         0\n",
            "City_Category                      0\n",
            "Stay_In_Current_City_Years         0\n",
            "Marital_Status                     0\n",
            "Product_Category_1                 0\n",
            "Product_Category_2            166986\n",
            "Product_Category_3            373299\n",
            "Purchase                           0\n",
            "dtype: int64\n"
          ]
        }
      ],
      "source": [
        "import pandas as pd\n",
        "import numpy as np\n",
        "Datos_1=pd.read_csv(\"C:/Users/JPVM/Desktop/Programas/Py/datos/weatherAUS.csv\",sep=\",\",decimal=\".\")\n",
        "Datos_2=pd.read_csv(\"C:/Users/JPVM/Desktop/Programas/Py/datos/heart.txt\",sep=\" \",decimal=\".\")\n",
        "Datos_3=pd.read_csv(\"C:/Users/JPVM/Desktop/Programas/Py/datos/master.csv\",sep=\",\",decimal=\".\")\n",
        "Datos_4=pd.read_csv(\"C:/Users/JPVM/Desktop/Programas/Py/datos/BlackFriday.txt\",sep=\"&\",decimal=\".\")\n",
        "\n",
        "print(Datos_1.shape)\n",
        "print(Datos_2.shape)\n",
        "print(Datos_3.shape)\n",
        "print(Datos_4.shape)\n",
        "print(list(Datos_1))\n",
        "print(list(Datos_2))\n",
        "print(list(Datos_3))\n",
        "print(list(Datos_4))\n",
        "#Analisis datos na\n",
        "print(Datos_1.isna().sum())\n",
        "print(Datos_2.isna().sum())\n",
        "print(Datos_3.isna().sum())\n",
        "print(Datos_4.isna().sum())\n",
        "\n",
        "resu_cate1=Datos_1.describe(include=['object'])\n",
        "resu_nume1 = Datos_1.describe(include = [np.number])\n",
        "\n",
        "resu_cate2=Datos_2.describe(include=['object'])\n",
        "resu_nume2 = Datos_2.describe(include = [np.number])\n",
        "\n",
        "resu_cate3=Datos_3.describe(include=['object'])\n",
        "resu_nume3= Datos_3.describe(include = [np.number])\n",
        "\n",
        "resu_cate4=Datos_4.describe(include=['object'])\n",
        "resu_nume4 = Datos_4.describe(include = [np.number])\n",
        "\n",
        "#Problemas con Datos_1  Dimensiones (142193, 24)\n",
        "#Rainfall          1406\n",
        "#Evaporation      60843 - Casi la mitad\n",
        "#Sunshine         67816 -  Casi la mitad\n",
        "#WindGustDir       9330\n",
        "#WindGustSpeed     9270\n",
        "#WindDir9am       10013\n",
        "#WindDir3pm        3778\n",
        "#WindSpeed9am      1348\n",
        "#WindSpeed3pm      2630\n",
        "#Humidity9am       1774\n",
        "#Humidity3pm       3610\n",
        "#Pressure9am      14014\n",
        "#Pressure3pm      13981\n",
        "#Cloud9am         53657\n",
        "#Cloud3pm         57094\n",
        "#Temp9am            904\n",
        "#Temp3pm           2726\n",
        "#RainToday         1406\n",
        "#Muchos datos NA\n",
        "\n",
        "#Datos_2: 0 es no, 1 es si?\n",
        "\n",
        "#Datos_3 (27820, 12)\n",
        "#HDI for year          19456 <- Muchos NA en esa columna , mas de la mitad\n",
        "\n",
        "#Datos_4 Valores NA  (537577, 12)\n",
        "\n",
        "#Product_Category_2            166986\n",
        "#Product_Category_3            373299\n",
        "\n",
        "\n"
      ]
    },
    {
      "cell_type": "code",
      "execution_count": null,
      "id": "9ebc783e",
      "metadata": {
        "id": "9ebc783e",
        "outputId": "bbab0944-77fd-43e3-a387-45424ac65f10"
      },
      "outputs": [
        {
          "name": "stdout",
          "output_type": "stream",
          "text": [
            "Date                 0\n",
            "Location             0\n",
            "MinTemp            637\n",
            "MaxTemp            322\n",
            "Rainfall          1406\n",
            "Evaporation      60843\n",
            "Sunshine         67816\n",
            "WindGustDir       9330\n",
            "WindGustSpeed     9270\n",
            "WindDir9am       10013\n",
            "WindDir3pm        3778\n",
            "WindSpeed9am      1348\n",
            "WindSpeed3pm      2630\n",
            "Humidity9am       1774\n",
            "Humidity3pm       3610\n",
            "Pressure9am      14014\n",
            "Pressure3pm      13981\n",
            "Cloud9am         53657\n",
            "Cloud3pm         57094\n",
            "Temp9am            904\n",
            "Temp3pm           2726\n",
            "RainToday         1406\n",
            "RISK_MM              0\n",
            "RainTomorrow         0\n",
            "dtype: int64\n",
            "(537577, 12)\n"
          ]
        }
      ],
      "source": [
        "Datos_4.head()\n",
        "print(Datos_1.isna().sum())\n",
        "print(Datos_4.shape)"
      ]
    },
    {
      "cell_type": "markdown",
      "id": "f8c1ba2d",
      "metadata": {
        "id": "f8c1ba2d"
      },
      "source": [
        "#  <center> <font color='blue'> ACTIVIDADES CLASE 6 - PLE: Módulo de Python </font> </center>"
      ]
    },
    {
      "cell_type": "markdown",
      "id": "4bf5f361",
      "metadata": {
        "id": "4bf5f361"
      },
      "source": [
        "1. Importar las bases de datos BD1.csv, BD2.csv, BD3.csv y BD4.csv.\n",
        "2. ¿Cuál sería la variable de identificación que permite unir las bases de datos?\n",
        "3. Unir dichas bases de datos en una única BD y llamela DATOS.\n",
        "4. Para las variables Importado y AireAcondicionado, recodifique 1 por SI y 0 por NO.\n",
        "5. Identifique los tipos de variables en DATOS y realice un análisis descriptivo de cada una teniendo en cuenta su nauraleza. Interprete cada uno de los valores obtenidos en el análisis descriptivo.\n",
        "6. Realice gráficos de barras para cada una de las variables categóricas.\n",
        "7. Realice un gráfico XY de puntos para:\n",
        "     - Peso versus Cilindraje.\n",
        "     - Peso versus Potencia.\n",
        "     - Peso versus Número de Puertas\n",
        "     - Cilindraje versus Potencia."
      ]
    },
    {
      "cell_type": "code",
      "execution_count": null,
      "id": "8508ed59",
      "metadata": {
        "id": "8508ed59",
        "outputId": "4a3157e1-749c-41fd-b17b-c9ebac977c68"
      },
      "outputs": [
        {
          "data": {
            "text/plain": [
              "(12433, 13)"
            ]
          },
          "execution_count": 64,
          "metadata": {},
          "output_type": "execute_result"
        },
        {
          "data": {
            "image/png": "[encoded data removed]",
            "text/plain": [
              "<Figure size 432x288 with 1 Axes>"
            ]
          },
          "metadata": {
            "needs_background": "light"
          },
          "output_type": "display_data"
        }
      ],
      "source": [
        "import pandas as pd\n",
        "import numpy as np\n",
        "from matplotlib import pyplot as plt\n",
        "\n",
        "db1=pd.read_csv(\"C:/Users/JPVM/Desktop/Programas/Py/datos/DB1.csv\",sep=\",\",decimal=\".\",header=0)\n",
        "db2=pd.read_csv(\"C:/Users/JPVM/Desktop/Programas/Py/datos/DB2.csv\",sep=\",\",decimal=\".\",header=0)\n",
        "db3=pd.read_csv(\"C:/Users/JPVM/Desktop/Programas/Py/datos/DB3.csv\",sep=\",\",decimal=\".\",header=0)\n",
        "db4=pd.read_csv(\"C:/Users/JPVM/Desktop/Programas/Py/datos/DB4.csv\",sep=\",\",decimal=\".\",header=0)\n",
        "#print(list(DATOS))\n",
        "#variable de identificacion: codigo\n",
        "DATOS = pd.merge(db1,db2,on = \"Codigo\", how = \"outer\").merge(db3,on = \"Codigo\", how = \"outer\").merge(db4,on = \"Codigo\", how = \"outer\")\n",
        "DATOS[\"Importado\"] = DATOS[\"Importado\"].replace([1,0],[\"SI\",\"NO\"])\n",
        "DATOS.Importado\n",
        "DATOS[\"AireAcondicionado\"] = DATOS[\"AireAcondicionado\"].replace([1,0],[\"SI\",\"NO\"])\n",
        "resum1=DATOS.describe(include=['object'])\n",
        "resum1\n",
        "resum2 = DATOS.describe(include = [np.number])\n",
        "resum2\n",
        "#plot = DATOS.Marca.value_counts().plot(kind='bar',title='Marcas')\n",
        "plot = DATOS.Importado.value_counts().plot(kind='bar',title='Importado')\n",
        "plot = DATOS.AireAcondicionado.value_counts().plot(kind='bar',title='AireAcondicionado')\n",
        "plot = DATOS.Nacionalidad.value_counts().plot(kind='bar',title='Nacionalidad')\n",
        "plot = DATOS.Combustible.value_counts().plot(kind='bar',title='Combustible')\n",
        "plot = DATOS.Transmision.value_counts().plot(kind='bar',title='Transmision')\n",
        "plt.grid()\n"
      ]
    },
    {
      "cell_type": "code",
      "execution_count": null,
      "id": "67f14309",
      "metadata": {
        "id": "67f14309",
        "outputId": "3897f434-3544-4c22-fda5-1f753ea01a8d"
      },
      "outputs": [
        {
          "data": {
            "text/plain": [
              "<matplotlib.collections.PathCollection at 0x20b9e8e6790>"
            ]
          },
          "execution_count": 65,
          "metadata": {},
          "output_type": "execute_result"
        },
        {
          "data": {
            "image/png": "[encoded data removed]",
            "text/plain": [
              "<Figure size 432x288 with 1 Axes>"
            ]
          },
          "metadata": {
            "needs_background": "light"
          },
          "output_type": "display_data"
        }
      ],
      "source": [
        "plt.scatter(DATOS.Peso, DATOS.Cilindraje)\n"
      ]
    },
    {
      "cell_type": "code",
      "execution_count": null,
      "id": "8794ed03",
      "metadata": {
        "id": "8794ed03",
        "outputId": "6a0573f9-800d-40f4-a71f-fa334d0239d7"
      },
      "outputs": [
        {
          "data": {
            "text/html": [
              "<div>\n",
              "<style scoped>\n",
              "    .dataframe tbody tr th:only-of-type {\n",
              "        vertical-align: middle;\n",
              "    }\n",
              "\n",
              "    .dataframe tbody tr th {\n",
              "        vertical-align: top;\n",
              "    }\n",
              "\n",
              "    .dataframe thead th {\n",
              "        text-align: right;\n",
              "    }\n",
              "</style>\n",
              "<table border=\"1\" class=\"dataframe\">\n",
              "  <thead>\n",
              "    <tr style=\"text-align: right;\">\n",
              "      <th></th>\n",
              "      <th>Marca</th>\n",
              "      <th>Estado_x</th>\n",
              "      <th>Importado</th>\n",
              "      <th>AireAcondicionado</th>\n",
              "      <th>Estado_y</th>\n",
              "      <th>Nacionalidad</th>\n",
              "      <th>Combustible</th>\n",
              "      <th>Transmision</th>\n",
              "    </tr>\n",
              "  </thead>\n",
              "  <tbody>\n",
              "    <tr>\n",
              "      <th>count</th>\n",
              "      <td>12433</td>\n",
              "      <td>12433</td>\n",
              "      <td>12433</td>\n",
              "      <td>12433</td>\n",
              "      <td>12433</td>\n",
              "      <td>12357</td>\n",
              "      <td>11707</td>\n",
              "      <td>11733</td>\n",
              "    </tr>\n",
              "    <tr>\n",
              "      <th>unique</th>\n",
              "      <td>371</td>\n",
              "      <td>1</td>\n",
              "      <td>2</td>\n",
              "      <td>2</td>\n",
              "      <td>1</td>\n",
              "      <td>28</td>\n",
              "      <td>5</td>\n",
              "      <td>11</td>\n",
              "    </tr>\n",
              "    <tr>\n",
              "      <th>top</th>\n",
              "      <td>CHEVROLET</td>\n",
              "      <td>Activo</td>\n",
              "      <td>SI</td>\n",
              "      <td>SI</td>\n",
              "      <td>Activo</td>\n",
              "      <td>COL</td>\n",
              "      <td>GSL</td>\n",
              "      <td>4X2</td>\n",
              "    </tr>\n",
              "    <tr>\n",
              "      <th>freq</th>\n",
              "      <td>953</td>\n",
              "      <td>12433</td>\n",
              "      <td>10452</td>\n",
              "      <td>6839</td>\n",
              "      <td>12433</td>\n",
              "      <td>1982</td>\n",
              "      <td>8161</td>\n",
              "      <td>7603</td>\n",
              "    </tr>\n",
              "  </tbody>\n",
              "</table>\n",
              "</div>"
            ],
            "text/plain": [
              "            Marca Estado_x Importado AireAcondicionado Estado_y Nacionalidad  \\\n",
              "count       12433    12433     12433             12433    12433        12357   \n",
              "unique        371        1         2                 2        1           28   \n",
              "top     CHEVROLET   Activo        SI                SI   Activo          COL   \n",
              "freq          953    12433     10452              6839    12433         1982   \n",
              "\n",
              "       Combustible Transmision  \n",
              "count        11707       11733  \n",
              "unique           5          11  \n",
              "top            GSL         4X2  \n",
              "freq          8161        7603  "
            ]
          },
          "execution_count": 51,
          "metadata": {},
          "output_type": "execute_result"
        }
      ],
      "source": [
        "resum1=DATOS.describe(include=['object'])\n",
        "resum1\n"
      ]
    },
    {
      "cell_type": "code",
      "execution_count": null,
      "id": "7a0fcd6d",
      "metadata": {
        "id": "7a0fcd6d"
      },
      "outputs": [],
      "source": [
        "#  <center> <font color='blue'> ACTIVIDAD CLASE 7 - PLE: Módulo de Python </font> </center>\n",
        "##    <center> (Sí es para entregar) </center>\n",
        "\n",
        "1. Leer las bases de datos:\n",
        "    - __index.txt__\n",
        "\n",
        "    - __mlr07.xls__ (ver website\n",
        "https://college.cengage.com/mathematics/brase/understandable_statistics/7e/students/datasets/mlr/frames/frame.html y seleccionar opción health).\n",
        "\n",
        "2. Analice los tipos de variables que contiene esta base de datos.\n",
        "3. Realice un análisis descriptivo de las variables contenidas en esta base de datos.\n",
        "4. Realizar gráficos XY de puntos con las variables continuas.\n",
        "5. Seleccione una variable respuesta, $y$, para ser explicada por las demás covarianbles, $x$.\n",
        "6. Ajuste rectas de regresión para cada covariable $x$ seleccionada para explicar $y$. Utilice el método 3 para realizar estos ajustes.\n"
      ]
    }
  ],
  "metadata": {
    "kernelspec": {
      "display_name": "Python 3 (ipykernel)",
      "language": "python",
      "name": "python3"
    },
    "language_info": {
      "codemirror_mode": {
        "name": "ipython",
        "version": 3
      },
      "file_extension": ".py",
      "mimetype": "text/x-python",
      "name": "python",
      "nbconvert_exporter": "python",
      "pygments_lexer": "ipython3",
      "version": "3.9.7"
    },
    "colab": {
      "provenance": []
    }
  },
  "nbformat": 4,
  "nbformat_minor": 5
}